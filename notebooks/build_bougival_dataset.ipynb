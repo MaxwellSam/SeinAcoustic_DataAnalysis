{
 "cells": [
  {
   "cell_type": "markdown",
   "metadata": {},
   "source": [
    "# Bougival Dataset\n",
    "\n",
    "## objectif\n",
    "\n",
    "Est-ce que les données de détection des signatures acoustiques peuvent avertir d'un changement anomale de l'environement ?\n",
    "\n",
    "Céation d'un dataset sur le site de Bougival pour étudier l'activité acoustique et la physico-chimie du fleuve. \n",
    "Identifier les éventuelles patterns de l'activité acoustique au cours du temps.   \n",
    "\n",
    "Données à disposition:\n",
    "- counting de signatures sonores \n",
    "  - Données yolo Sensea: \n",
    "    - **occurence de signatures acoustiques** => format (date,label)\n",
    "  - Données AutoRiver:\n",
    "    - **comptage de signatures acoustiques** => format (date, label1, ... , label10)\n",
    "- **physico-chimie continue** journalière\n",
    "  - oxygène, turbidité, conductivité, ph, phosphate, temperature\n",
    "- **physico-chimie ponctuelle** hebdo faite en laboratoire\n",
    "  - MES,DBO5,DCO,NTK,NH4,NO2,NO3,Pt,TAC,Chlorures,Sulfates,COD,PO4\n",
    "\n",
    "Avec DBBuilder => Construire un dataset comprenant:\n",
    "1) le comptage des détections faites de signatures acoustiques\n",
    "2) l'ajout de variables météorologiques\n",
    "3) l'identification des cycles journaliers (jour, nuit, crépuscule, aube) et autres données astrales (phases de la lune)"
   ]
  },
  {
   "cell_type": "code",
   "execution_count": null,
   "metadata": {},
   "outputs": [],
   "source": [
    "import os\n",
    "cwd = os.getcwd()\n",
    "new_cwd = os.path.join(cwd.rsplit(\"SeinAcoustic_DataAnalysis\")[0], \"SeinAcoustic_DataAnalysis\") if not cwd.endswith(\"SeinAcoustic_DataAnalysis\") else None\n",
    "if new_cwd != None:\n",
    "    os.chdir(new_cwd)"
   ]
  },
  {
   "cell_type": "code",
   "execution_count": null,
   "metadata": {},
   "outputs": [],
   "source": [
    "import pandas as pd\n",
    "import numpy as np\n",
    "import glob\n",
    "from DBBuilder import DBBuilder, Sun, Moon\n",
    "from IPython.display import display\n",
    "import plotly.express as px"
   ]
  },
  {
   "cell_type": "code",
   "execution_count": null,
   "metadata": {},
   "outputs": [],
   "source": [
    "\n",
    "# Physico-Chimie\n",
    "files_phch_continus=glob.glob(\"./data/EB/bougival/chimie continue/*.csv\")\n",
    "files_phch_ponctual=glob.glob(\"./data/EB/bougival/chimie ponctuelle/*.csv\")\n",
    "# Outputs\n",
    "output_folder=None"
   ]
  },
  {
   "cell_type": "markdown",
   "metadata": {},
   "source": [
    "## Préparation des données acoustiques"
   ]
  },
  {
   "cell_type": "code",
   "execution_count": null,
   "metadata": {},
   "outputs": [],
   "source": [
    "# Variables\n",
    "sitename=\"bougival\"\n",
    "lat, long, elev=48.865,2.144,23\n",
    "timezone=\"UTC\"\n",
    "files_autoriver = glob.glob(\"./data/clean/bougival/acoustic/autoriver/*.csv\")\n",
    "output_folder = \"./data/datasets/bougival/\""
   ]
  },
  {
   "cell_type": "markdown",
   "metadata": {},
   "source": [
    "### Données otoriver (acoustic EB)\n",
    "\n",
    "Note: Données otoriver\n",
    "les colonnes on des types de valueurs variables en fonction des colonnes => int / float => expl \"B40k\"=int \"BUS\"=float\n",
    "Déduction = il n'y a pas que des données de comptage !! \n",
    "Si l'on regarde l'occurence des dates dans le jeu de données, on remarque que des dates sont jusqu'à 30 fois présentent.   "
   ]
  },
  {
   "cell_type": "code",
   "execution_count": null,
   "metadata": {},
   "outputs": [],
   "source": [
    "df_autoriver = pd.concat([pd.read_csv(f) for f in files_autoriver])\n",
    "display(df_autoriver)"
   ]
  },
  {
   "cell_type": "code",
   "execution_count": null,
   "metadata": {},
   "outputs": [],
   "source": [
    "df_autoriver.date = pd.to_datetime(df_autoriver.date)\n",
    "dates_count=df_autoriver.date.value_counts()\n",
    "dates_count = dates_count.sort_index()\n",
    "px.line(x=dates_count.index, y=dates_count.values, title=\"Occurence des dates dans les données otoriver\")"
   ]
  },
  {
   "cell_type": "code",
   "execution_count": null,
   "metadata": {},
   "outputs": [],
   "source": [
    "df_autoriver_multidates = df_autoriver[df_autoriver.date.isin(dates_count[(dates_count.values > 1)].index)]\n",
    "df_autoriver_multidates.dtypes"
   ]
  },
  {
   "cell_type": "code",
   "execution_count": null,
   "metadata": {},
   "outputs": [],
   "source": [
    "melted_df_autoriver = df_autoriver.melt(id_vars='date', var_name='label', value_name='value')"
   ]
  },
  {
   "cell_type": "code",
   "execution_count": null,
   "metadata": {},
   "outputs": [],
   "source": [
    "melted_df_autoriver.head(100)"
   ]
  },
  {
   "cell_type": "markdown",
   "metadata": {},
   "source": [
    "##  Données Sensea"
   ]
  },
  {
   "cell_type": "code",
   "execution_count": null,
   "metadata": {},
   "outputs": [],
   "source": [
    "files_sensea = glob.glob(\"./data/clean/bougival/acoustic/sensea/*.csv\")\n",
    "df_sensea = pd.concat([pd.read_csv(f) for f in files_sensea])\n",
    "display(df_sensea)"
   ]
  },
  {
   "cell_type": "code",
   "execution_count": null,
   "metadata": {},
   "outputs": [],
   "source": [
    "file_lilian_sensea_clean = \"data/seinacoustic_EB/1-bougival/données transformées/heure/acoustique/SENSEA/descripteurs150621270623.csv\"\n",
    "df_sensea_lilian = pd.read_csv(file_lilian_sensea_clean, sep=\";\")\n",
    "display(df_sensea_lilian)"
   ]
  },
  {
   "cell_type": "code",
   "execution_count": null,
   "metadata": {},
   "outputs": [],
   "source": [
    "dbbuilder = DBBuilder(latitude=lat, longitude=long, elevation=elev, timefreq=\"min\")\n",
    "dbbuilder.from_labels_occurence(dates=df_sensea.date, labels=df_sensea.label)\n",
    "display(dbbuilder.counting)"
   ]
  },
  {
   "cell_type": "code",
   "execution_count": null,
   "metadata": {},
   "outputs": [],
   "source": [
    "cols_label = [c for c in dbbuilder.counting.columns if c.startswith(\"label\")]\n",
    "counting_hourly = dbbuilder.agg_counting(timefreq=\"h\")\n",
    "counting_daily = dbbuilder.agg_counting(timefreq=\"d\")"
   ]
  },
  {
   "cell_type": "code",
   "execution_count": null,
   "metadata": {},
   "outputs": [],
   "source": [
    "display(counting_daily)"
   ]
  },
  {
   "cell_type": "code",
   "execution_count": null,
   "metadata": {},
   "outputs": [],
   "source": [
    "px.line(dbbuilder.counting, x=\"date\", y=[c for c in dbbuilder.counting.columns if c.startswith(\"label\")])\n",
    "count_hourly = db"
   ]
  },
  {
   "cell_type": "code",
   "execution_count": null,
   "metadata": {},
   "outputs": [],
   "source": [
    "px.line(dbbuilder.counting, x=\"date\", y=[c for c in dbbuilder.counting.columns if c.startswith(\"label\")], )"
   ]
  },
  {
   "cell_type": "code",
   "execution_count": null,
   "metadata": {},
   "outputs": [],
   "source": [
    "def plot_grpby (df, columns)"
   ]
  },
  {
   "cell_type": "code",
   "execution_count": null,
   "metadata": {},
   "outputs": [],
   "source": [
    "# agg_params = {k:\"mean\" for k in dbbuilder.counting.columns if k.startswith(\"label\")}\n",
    "# agg_params.update({k:\"var\" for k in dbbuilder.counting.columns if k.startswith(\"label\")})\n",
    "hmean_suncycle_day = dbbuilder.counting.groupby([\"suncycle_day\"])[[c for c in dbbuilder.counting.columns if c.startswith(\"label\")]].mean().add_prefix(\"hmean_\")\n",
    "hstd_suncycle_day = dbbuilder.counting.groupby([\"suncycle_day\"])[[c for c in dbbuilder.counting.columns if c.startswith(\"label\")]].std().add_prefix(\"hstd_\")\n",
    "hmean_suncycle_day, hstd_suncycle_day = hmean_suncycle_day.reset_index(), hstd_suncycle_day.reset_index()\n",
    "daily_analysis = pd.merge(hmean_suncycle_day, hstd_suncycle_day, on=\"suncycle_day\")\n",
    "display(daily_analysis)"
   ]
  },
  {
   "cell_type": "code",
   "execution_count": null,
   "metadata": {},
   "outputs": [],
   "source": [
    "cols_mean = [c for c in daily_analysis.columns if c.startswith(\"hmean_label\")]\n",
    "cols_std = [c for c in daily_analysis.columns if c.startswith(\"hstd_label\")]\n",
    "px.histogram(daily_analysis, x=\"suncycle_day\", y=cols_mean)"
   ]
  },
  {
   "cell_type": "code",
   "execution_count": null,
   "metadata": {},
   "outputs": [],
   "source": []
  },
  {
   "cell_type": "code",
   "execution_count": null,
   "metadata": {},
   "outputs": [],
   "source": [
    "output_sensea = dbbuilder.from_labels_occurence(dates=df_sensea.date, labels=df_sensea.label, prefix=\"label_sensea_\")\n",
    "sensea_database = {k:pd.DataFrame(v) for k,v in output_sensea[\"data\"]}\n",
    "for k, df in database:\n",
    "    print(k)\n",
    "    display(df)"
   ]
  },
  {
   "cell_type": "code",
   "execution_count": null,
   "metadata": {},
   "outputs": [],
   "source": []
  }
 ],
 "metadata": {
  "kernelspec": {
   "display_name": "Python 3",
   "language": "python",
   "name": "python3"
  },
  "language_info": {
   "codemirror_mode": {
    "name": "ipython",
    "version": 3
   },
   "file_extension": ".py",
   "mimetype": "text/x-python",
   "name": "python",
   "nbconvert_exporter": "python",
   "pygments_lexer": "ipython3",
   "version": "3.12.2"
  }
 },
 "nbformat": 4,
 "nbformat_minor": 2
}
