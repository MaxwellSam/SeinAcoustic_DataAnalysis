{
 "cells": [
  {
   "cell_type": "markdown",
   "metadata": {},
   "source": [
    "# Bougival Dataset\n",
    "\n",
    "## objectif\n",
    "\n",
    "Est-ce que les données de détection des signatures acoustiques peuvent avertir d'un changement anomale de l'environement ?\n",
    "\n",
    "Céation d'un dataset sur le site de Bougival pour étudier l'activité acoustique et la physico-chimie du fleuve. \n",
    "Identifier les éventuelles patterns de l'activité acoustique au cours du temps.   \n",
    "\n",
    "Données à disposition:\n",
    "- counting de signatures sonores \n",
    "  - Données yolo Sensea: \n",
    "    - **occurence de signatures acoustiques** => format (date,label)\n",
    "  - Données AutoRiver:\n",
    "    - **comptage de signatures acoustiques** => format (date, label1, ... , label10)\n",
    "- **physico-chimie continue** journalière\n",
    "  - oxygène, turbidité, conductivité, ph, phosphate, temperature\n",
    "- **physico-chimie ponctuelle** hebdo faite en laboratoire\n",
    "  - MES,DBO5,DCO,NTK,NH4,NO2,NO3,Pt,TAC,Chlorures,Sulfates,COD,PO4\n",
    "\n",
    "Avec DBBuilder => Construire un dataset comprenant:\n",
    "1) le comptage des détections faites de signatures acoustiques\n",
    "2) l'ajout de varnamenamenamenamenamenamenamenamenamenamenamenamenamenameiables météorologiques\n",
    "3) l'identification des cycles journaliers (jour, nuit, crépuscule, aube) et autres données astrales (phases de la lune)"
   ]
  },
  {
   "cell_type": "code",
   "execution_count": null,
   "metadata": {},
   "outputs": [],
   "source": [
    "import os\n",
    "cwd = os.getcwd()\n",
    "new_cwd = os.path.join(cwd.rsplit(\"SeinAcoustic_DataAnalysis\")[0], \"SeinAcoustic_DataAnalysis\") if not cwd.endswith(\"SeinAcoustic_DataAnalysis\") else None\n",
    "if new_cwd != None:\n",
    "    os.chdir(new_cwd)"
   ]
  },
  {
   "cell_type": "code",
   "execution_count": null,
   "metadata": {},
   "outputs": [],
   "source": [
    "import pandas as pd\n",
    "import numpy as np\n",
    "import glob\n",
    "from DBBuilder import DBBuilder, Sun, Moon\n",
    "from DBBuilder.datareader import Otoriver_DataReader, Sensea_DataReader\n",
    "from IPython.display import display\n",
    "import plotly.express as px"
   ]
  },
  {
   "cell_type": "code",
   "execution_count": null,
   "metadata": {},
   "outputs": [],
   "source": [
    "# Physico-Chimie\n",
    "files_phch_continus=glob.glob(\"./data/EB/bougival/chimie continue/*.csv\")\n",
    "files_phch_ponctual=glob.glob(\"./data/EB/bougival/chimie ponctuelle/*.csv\")\n",
    "# Outputs\n",
    "output_folder=None"
   ]
  },
  {
   "cell_type": "markdown",
   "metadata": {},
   "source": [
    "## Préparation des données acoustiques"
   ]
  },
  {
   "cell_type": "code",
   "execution_count": null,
   "metadata": {},
   "outputs": [],
   "source": [
    "metadata_acoustic = pd.DataFrame()\n",
    "# Variables\n",
    "sitename=\"bougival\"\n",
    "lat, long, elev=48.865,2.144,23\n",
    "timezone=\"UTC\"\n",
    "files_otoriver = glob.glob(\"./data/clean/bougival/acoustic/autoriver/*.csv\")\n",
    "output_folder = \"./data/datasets/bougival/\""
   ]
  },
  {
   "cell_type": "markdown",
   "metadata": {},
   "source": [
    "### Données otoriver (acoustic EB)\n",
    "\n",
    "Note: Données otoriver\n",
    "les colonnes on des types de valeurs differentes en fonction des colonnes => int / float => expl \"B40k\"=int \"BUS\"=float\n",
    "Déduction = il n'y a pas que des données de comptage !! \n",
    "Si l'on regarde l'occurence des dates dans le jeu de données, on remarque que des dates sont jusqu'à 30 fois présentent.  \n",
    "\n",
    "#### Première exploration des données"
   ]
  },
  {
   "cell_type": "code",
   "execution_count": null,
   "metadata": {},
   "outputs": [],
   "source": [
    "df_otoriver = pd.concat([pd.read_csv(f) for f in files_otoriver])\n",
    "display(df_otoriver)\n",
    "df_unique_dates = df_otoriver.groupby(\"date\").mean().reset_index()"
   ]
  },
  {
   "cell_type": "code",
   "execution_count": null,
   "metadata": {},
   "outputs": [],
   "source": [
    "df_unique_dates"
   ]
  },
  {
   "cell_type": "code",
   "execution_count": null,
   "metadata": {},
   "outputs": [],
   "source": [
    "df_otoriver.describe()\n"
   ]
  },
  {
   "cell_type": "code",
   "execution_count": null,
   "metadata": {},
   "outputs": [],
   "source": [
    "df_otoriver.date = pd.to_datetime(df_otoriver.date)\n",
    "dates_count=df_otoriver.date.value_counts()\n",
    "dates_count = dates_count.sort_index()\n",
    "display(px.line(df_otoriver, x=\"date\", y=[c for c in df_otoriver.columns if c != \"date\"]))\n",
    "display(px.line(x=dates_count.index, y=dates_count.values, title=\"Occurence des dates dans les données otoriver\"))"
   ]
  },
  {
   "cell_type": "markdown",
   "metadata": {},
   "source": [
    "#### Utilisation du datareader pour les données otoriver"
   ]
  },
  {
   "cell_type": "code",
   "execution_count": null,
   "metadata": {},
   "outputs": [],
   "source": [
    "metadata_otoriver = pd.DataFrame(Otoriver_DataReader.metadata)\n",
    "metadata_otoriver.to_csv(\"./data/metadata_otoriver.csv\", index=False) \n",
    "display(metadata_otoriver)"
   ]
  },
  {
   "cell_type": "code",
   "execution_count": null,
   "metadata": {},
   "outputs": [],
   "source": [
    "otoriver_reader = Otoriver_DataReader()\n",
    "df_otoriver_prepared = otoriver_reader.from_df(df_otoriver)"
   ]
  },
  {
   "cell_type": "code",
   "execution_count": null,
   "metadata": {},
   "outputs": [],
   "source": [
    "df_otoriver_prepared"
   ]
  },
  {
   "cell_type": "code",
   "execution_count": null,
   "metadata": {},
   "outputs": [],
   "source": [
    "def get_data_byUnit (df:pd.DataFrame, metadata:pd.DataFrame, display_figs:bool=False):\n",
    "    data_byUnit = {}\n",
    "    for unit in metadata.unit.unique():\n",
    "        labels_unit = metadata_otoriver[metadata_otoriver.unit == unit].varname.tolist()\n",
    "        df_unit = None\n",
    "        for var in labels_unit:\n",
    "            df_var = df.loc[(df_otoriver[var].notna()),[\"date\", var]]\n",
    "            print(var)\n",
    "            df_var = df_var.drop_duplicates()\n",
    "            print(df_var.duplicated(subset=\"date\").sum())\n",
    "            if type(df_unit) == type(None):\n",
    "                df_unit = df_var\n",
    "            else:\n",
    "                df_unit = pd.merge(df_unit, df_var, on=\"date\", how=\"outer\")\n",
    "        fig = px.line(df_unit, x=\"date\", y=labels_unit, title=f\"unit {unit}\")\n",
    "        data_byUnit[unit] = {\"df\":df_unit, \"fig\":fig}\n",
    "        if display_figs:\n",
    "            display(fig)\n",
    "    return data_byUnit"
   ]
  },
  {
   "cell_type": "code",
   "execution_count": null,
   "metadata": {},
   "outputs": [],
   "source": []
  },
  {
   "cell_type": "markdown",
   "metadata": {},
   "source": [
    "notes: \n",
    "Après consultation du fichier \"Tableau des paramètres MeSeine.xlsx\", les variables d'otoriver sont décrites et les unités de mesure données. \n",
    "On remarque que les variables n'ont pas la même unité, certaines sont en comptage (entier), mais d'autres sont en frequence ou pourcentage, notament pour les bioclicks.\n",
    "\n",
    "=> Utilisation des données de type comptage"
   ]
  },
  {
   "cell_type": "code",
   "execution_count": null,
   "metadata": {},
   "outputs": [],
   "source": [
    "var_count_otoriver = metadata_otoriver.loc[(metadata_otoriver.unit == \"nb\"), \"varname\"].values.tolist()\n",
    "display(metadata_otoriver[metadata_otoriver.unit == \"nb\"])"
   ]
  },
  {
   "cell_type": "code",
   "execution_count": null,
   "metadata": {},
   "outputs": [],
   "source": [
    "df_counting_otoriver = None\n",
    "for var in var_count_otoriver:\n",
    "    df_var = df_otoriver.loc[(df_otoriver[var].notna()),[\"date\", var]]\n",
    "    if type(df_counting_otoriver) == type(None):\n",
    "        df_counting_otoriver = df_var\n",
    "    else:\n",
    "        df_counting_otoriver = pd.merge(df_counting_otoriver, df_var, on=\"date\", how=\"outer\")"
   ]
  },
  {
   "cell_type": "code",
   "execution_count": null,
   "metadata": {},
   "outputs": [],
   "source": [
    "df_counting_otoriver"
   ]
  },
  {
   "cell_type": "code",
   "execution_count": null,
   "metadata": {},
   "outputs": [],
   "source": [
    "labels_otoriver = [c for c in metadata_otoriver[metadata_otoriver.unit == \"pct\"].varname if c != \"date\"]\n",
    "px.line(df_otoriver, x=\"date\", y=labels_otoriver)"
   ]
  },
  {
   "cell_type": "markdown",
   "metadata": {},
   "source": [
    "##  Données Sensea"
   ]
  },
  {
   "cell_type": "code",
   "execution_count": null,
   "metadata": {},
   "outputs": [],
   "source": [
    "files_sensea = glob.glob(\"./data/clean/bougival/acoustic/sensea/*.csv\")\n",
    "df_sensea = pd.concat([pd.read_csv(f) for f in files_sensea])\n",
    "display(df_sensea)"
   ]
  },
  {
   "cell_type": "code",
   "execution_count": null,
   "metadata": {},
   "outputs": [],
   "source": [
    "file_lilian_sensea_clean = \"data/seinacoustic_EB/1-bougival/données transformées/heure/acoustique/SENSEA/descripteurs150621270623.csv\"\n",
    "df_sensea_lilian = pd.read_csv(file_lilian_sensea_clean, sep=\";\")\n",
    "display(df_sensea_lilian)"
   ]
  },
  {
   "cell_type": "code",
   "execution_count": null,
   "metadata": {},
   "outputs": [],
   "source": [
    "dbbuilder = DBBuilder(latitude=lat, longitude=long, elevation=elev, timefreq=\"min\")\n",
    "dbbuilder.from_labels_occurence(dates=df_sensea.date, labels=df_sensea.label)\n",
    "display(dbbuilder.counting)"
   ]
  },
  {
   "cell_type": "code",
   "execution_count": null,
   "metadata": {},
   "outputs": [],
   "source": [
    "cols_label = [c for c in dbbuilder.counting.columns if c.startswith(\"label\")]\n",
    "counting_hourly = dbbuilder.agg_counting(timefreq=\"h\")\n",
    "counting_daily = dbbuilder.agg_counting(timefreq=\"d\")"
   ]
  },
  {
   "cell_type": "code",
   "execution_count": null,
   "metadata": {},
   "outputs": [],
   "source": [
    "display(counting_daily)"
   ]
  },
  {
   "cell_type": "code",
   "execution_count": null,
   "metadata": {},
   "outputs": [],
   "source": [
    "px.line(dbbuilder.counting, x=\"date\", y=[c for c in dbbuilder.counting.columns if c.startswith(\"label\")])\n",
    "count_hourly = db"
   ]
  },
  {
   "cell_type": "code",
   "execution_count": null,
   "metadata": {},
   "outputs": [],
   "source": [
    "px.line(dbbuilder.counting, x=\"date\", y=[c for c in dbbuilder.counting.columns if c.startswith(\"label\")], )"
   ]
  },
  {
   "cell_type": "code",
   "execution_count": null,
   "metadata": {},
   "outputs": [],
   "source": [
    "def plot_grpby (df, columns)"
   ]
  },
  {
   "cell_type": "code",
   "execution_count": null,
   "metadata": {},
   "outputs": [],
   "source": [
    "# agg_params = {k:\"mean\" for k in dbbuilder.counting.columns if k.startswith(\"label\")}\n",
    "# agg_params.update({k:\"var\" for k in dbbuilder.counting.columns if k.startswith(\"label\")})\n",
    "hmean_suncycle_day = dbbuilder.counting.groupby([\"suncycle_day\"])[[c for c in dbbuilder.counting.columns if c.startswith(\"label\")]].mean().add_prefix(\"hmean_\")\n",
    "hstd_suncycle_day = dbbuilder.counting.groupby([\"suncycle_day\"])[[c for c in dbbuilder.counting.columns if c.startswith(\"label\")]].std().add_prefix(\"hstd_\")\n",
    "hmean_suncycle_day, hstd_suncycle_day = hmean_suncycle_day.reset_index(), hstd_suncycle_day.reset_index()\n",
    "daily_analysis = pd.merge(hmean_suncycle_day, hstd_suncycle_day, on=\"suncycle_day\")\n",
    "display(daily_analysis)"
   ]
  },
  {
   "cell_type": "code",
   "execution_count": null,
   "metadata": {},
   "outputs": [],
   "source": [
    "cols_mean = [c for c in daily_analysis.columns if c.startswith(\"hmean_label\")]\n",
    "cols_std = [c for c in daily_analysis.columns if c.startswith(\"hstd_label\")]\n",
    "px.histogram(daily_analysis, x=\"suncycle_day\", y=cols_mean)"
   ]
  },
  {
   "cell_type": "code",
   "execution_count": null,
   "metadata": {},
   "outputs": [],
   "source": []
  },
  {
   "cell_type": "code",
   "execution_count": null,
   "metadata": {},
   "outputs": [],
   "source": [
    "output_sensea = dbbuilder.from_labels_occurence(dates=df_sensea.date, labels=df_sensea.label, prefix=\"label_sensea_\")\n",
    "sensea_database = {k:pd.DataFrame(v) for k,v in output_sensea[\"data\"]}\n",
    "for k, df in database:\n",
    "    print(k)\n",
    "    display(df)"
   ]
  },
  {
   "cell_type": "code",
   "execution_count": null,
   "metadata": {},
   "outputs": [],
   "source": []
  }
 ],
 "metadata": {
  "kernelspec": {
   "display_name": "Python 3",
   "language": "python",
   "name": "python3"
  },
  "language_info": {
   "codemirror_mode": {
    "name": "ipython",
    "version": 3
   },
   "file_extension": ".py",
   "mimetype": "text/x-python",
   "name": "python",
   "nbconvert_exporter": "python",
   "pygments_lexer": "ipython3",
   "version": "3.12.2"
  }
 },
 "nbformat": 4,
 "nbformat_minor": 2
}
