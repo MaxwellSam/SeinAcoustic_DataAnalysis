{
 "cells": [
  {
   "cell_type": "markdown",
   "metadata": {},
   "source": [
    "# Construction du Dataset SeinAcoustic\n",
    "\n",
    "## objectif\n",
    "\n",
    "Données à disposition:\n",
    "- **occurence de signatures acoustiques** détecté au cours du temps\n",
    "- **physico-chimie continue** journalière\n",
    "- **physico-chimie ponctuelle** hebdo faite en laboratoire\n",
    "\n",
    "Construire un dataset comprenant:\n",
    "1) le comptage des détections faites de signatures acoustiques\n",
    "2) l'ajout de variables météorologiques\n",
    "3) l'identification des cycles journaliers (jour, nuit, crépuscule, aube) et autres données astrales (phases de la lune)"
   ]
  },
  {
   "cell_type": "code",
   "execution_count": 8,
   "metadata": {},
   "outputs": [],
   "source": [
    "import os\n",
    "cwd = os.getcwd()\n",
    "new_cwd = os.path.join(cwd.rsplit(\"SeinAcoustic_DataAnalysis\")[0], \"SeinAcoustic_DataAnalysis\") if not cwd.endswith(\"SeinAcoustic_DataAnalysis\") else None\n",
    "if new_cwd != None:\n",
    "    os.chdir(new_cwd)"
   ]
  },
  {
   "cell_type": "markdown",
   "metadata": {},
   "source": [
    "### Imports"
   ]
  },
  {
   "cell_type": "code",
   "execution_count": 12,
   "metadata": {},
   "outputs": [],
   "source": [
    "import pandas as pd\n",
    "import numpy as np\n",
    "import glob\n",
    "from DBBuilder import DBBuilder, Sun, Moon"
   ]
  },
  {
   "cell_type": "code",
   "execution_count": 11,
   "metadata": {},
   "outputs": [],
   "source": [
    "# Inputs\n",
    "sitename=\"Bougival\"\n",
    "lat, long, elev=48.865,2.144,23\n",
    "timezone=\"UTC\"\n",
    "folder_acoustic=\"./data/bougival/acoustique\"\n",
    "folder_phch_continus=\"./data/EB/bougival/chimie continue/\"\n",
    "folder_phch_ponctual=\"./data/EB/bougival/chimie ponctuelle/\"\n",
    "# Outputs\n",
    "output_folder=None"
   ]
  },
  {
   "cell_type": "code",
   "execution_count": 6,
   "metadata": {},
   "outputs": [],
   "source": []
  },
  {
   "cell_type": "code",
   "execution_count": null,
   "metadata": {},
   "outputs": [],
   "source": []
  }
 ],
 "metadata": {
  "kernelspec": {
   "display_name": "Python 3",
   "language": "python",
   "name": "python3"
  },
  "language_info": {
   "codemirror_mode": {
    "name": "ipython",
    "version": 3
   },
   "file_extension": ".py",
   "mimetype": "text/x-python",
   "name": "python",
   "nbconvert_exporter": "python",
   "pygments_lexer": "ipython3",
   "version": "3.12.2"
  }
 },
 "nbformat": 4,
 "nbformat_minor": 2
}
