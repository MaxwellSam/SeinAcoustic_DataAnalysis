{
 "cells": [
  {
   "cell_type": "markdown",
   "metadata": {},
   "source": [
    "# Construction du Dataset SeinAcoustic\n",
    "\n",
    "## objectif\n",
    "\n",
    "Données à disposition:\n",
    "- **occurence de signatures acoustiques** détecté au cours du temps\n",
    "- **physico-chimie continue** journalière\n",
    "- **physico-chimie ponctuelle** hebdo faite en laboratoire\n",
    "\n",
    "Construire un dataset comprenant:\n",
    "1) le comptage des détections faites de signatures acoustiques\n",
    "2) l'ajout de variables météorologiques\n",
    "3) l'identification des cycles journaliers (jour, nuit, crépuscule, aube) et autres données astrales (phases de la lune)"
   ]
  },
  {
   "cell_type": "code",
   "execution_count": null,
   "metadata": {},
   "outputs": [],
   "source": [
    "import os\n",
    "cwd = os.getcwd()\n",
    "new_cwd = os.path.join(cwd.rsplit(\"SeinAcoustic_DataAnalysis\")[0], \"SeinAcoustic_DataAnalysis\") if not cwd.endswith(\"SeinAcoustic_DataAnalysis\") else None\n",
    "if new_cwd != None:\n",
    "    os.chdir(new_cwd)"
   ]
  },
  {
   "cell_type": "markdown",
   "metadata": {},
   "source": [
    "### Imports"
   ]
  },
  {
   "cell_type": "code",
   "execution_count": null,
   "metadata": {},
   "outputs": [],
   "source": [
    "import pandas as pd\n",
    "import numpy as np\n",
    "import glob\n",
    "from DBBuilder import DBBuilder, Sun, Moon\n",
    "from IPython.display import display"
   ]
  },
  {
   "cell_type": "code",
   "execution_count": null,
   "metadata": {},
   "outputs": [],
   "source": [
    "# Inputs\n",
    "sitename=\"Bougival\"\n",
    "lat, long, elev=48.865,2.144,23\n",
    "timezone=\"UTC\"\n",
    "files_sensea_yolo = glob.glob(\"./data/EB/bougival/acoustique/acoustique SENSEA/yolo/*.csv\")\n",
    "files_phch_continus=glob.glob(\"./data/EB/bougival/chimie continue/*.csv\")\n",
    "files_phch_ponctual=glob.glob(\"./data/EB/bougival/chimie ponctuelle/*.csv\")\n",
    "# Outputs\n",
    "output_folder=None"
   ]
  },
  {
   "cell_type": "markdown",
   "metadata": {},
   "source": [
    "## How to use DBBuilder"
   ]
  },
  {
   "cell_type": "markdown",
   "metadata": {},
   "source": [
    "### Generate database"
   ]
  },
  {
   "cell_type": "code",
   "execution_count": null,
   "metadata": {},
   "outputs": [],
   "source": [
    "# 1) initialize dbbuilder object\n",
    "dbbuilder = DBBuilder(latitude=lat, longitude=long, elevation=elev)\n",
    "# 2) get acoustic data (with label occurences)\n",
    "dfs = [pd.read_csv(file)[[\"date\", \"label\"]] for file in files_sensea_yolo[:1]]\n",
    "df = pd.concat(dfs)\n",
    "# 3) use dbbuilder to create database\n",
    "output = dbbuilder.from_labels_occurence(dates=df.date, labels=df.label, prefix=\"label_\")"
   ]
  },
  {
   "cell_type": "markdown",
   "metadata": {},
   "source": [
    "### Aggregate detection on an other time frequency"
   ]
  },
  {
   "cell_type": "code",
   "execution_count": null,
   "metadata": {},
   "outputs": [],
   "source": [
    "detection_h = dbbuilder.agg_detection(timefreq=\"h\")\n",
    "print(\"detection hourly\")\n",
    "display(detection_h)\n",
    "detection_d = dbbuilder.agg_detection(timefreq=\"d\")\n",
    "print(\"detection daily\")\n",
    "display(detection_d)"
   ]
  },
  {
   "cell_type": "markdown",
   "metadata": {},
   "source": [
    "### Find meteo and astral infos"
   ]
  },
  {
   "cell_type": "code",
   "execution_count": null,
   "metadata": {},
   "outputs": [],
   "source": [
    "meteo = dbbuilder.meteo_infos_hourly\n",
    "print(\"meteo hourly\")\n",
    "display(meteo)\n",
    "astral = dbbuilder.astral_infos_daily\n",
    "print(\"astral daily\")\n",
    "display(astral)"
   ]
  }
 ],
 "metadata": {
  "kernelspec": {
   "display_name": "Python 3",
   "language": "python",
   "name": "python3"
  },
  "language_info": {
   "codemirror_mode": {
    "name": "ipython",
    "version": 3
   },
   "file_extension": ".py",
   "mimetype": "text/x-python",
   "name": "python",
   "nbconvert_exporter": "python",
   "pygments_lexer": "ipython3",
   "version": "3.12.2"
  }
 },
 "nbformat": 4,
 "nbformat_minor": 2
}
