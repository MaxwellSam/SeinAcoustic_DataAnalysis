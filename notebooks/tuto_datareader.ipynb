{
 "cells": [
  {
   "cell_type": "markdown",
   "metadata": {},
   "source": [
    "# Tutotial DataReader\n",
    "\n",
    "Utilisation des objets DataReader pour la lectures de données sources spécifiques. \n",
    "En résumé, que font les DataReader:\n",
    "- Prise en charge d'un input specifique (une source de donnée comme par expl otoriver ou sensea).\n",
    "- Prétraitmements éventuels sur la donnée brut (expl: passer sur un pas de temps horaire).\n",
    "- Construction d'un dataset en sortie"
   ]
  },
  {
   "cell_type": "code",
   "execution_count": null,
   "metadata": {},
   "outputs": [],
   "source": [
    "import os\n",
    "cwd = os.getcwd()\n",
    "new_cwd = os.path.join(cwd.rsplit(\"SeinAcoustic_DataAnalysis\")[0], \"SeinAcoustic_DataAnalysis\") if not cwd.endswith(\"SeinAcoustic_DataAnalysis\") else None\n",
    "if new_cwd != None:\n",
    "    os.chdir(new_cwd)"
   ]
  },
  {
   "cell_type": "markdown",
   "metadata": {},
   "source": [
    "## 1. Descripteurs Acoustiques d'Otoriver : Otoriver DataReader \n",
    "\n",
    "Permettre la lecture et le prétraitement des données otoriver"
   ]
  },
  {
   "cell_type": "code",
   "execution_count": null,
   "metadata": {},
   "outputs": [],
   "source": [
    "import pandas as pd\n",
    "import plotly.express as px\n",
    "import glob"
   ]
  },
  {
   "cell_type": "code",
   "execution_count": null,
   "metadata": {},
   "outputs": [],
   "source": [
    "from DBBuilder.datareader import Otoriver_DataReader\n",
    "\n",
    "# Initialisation de du DataReader\n",
    "datareader = Otoriver_DataReader(timefreq=\"h\") # Choisire le pas de temps de sortie\n",
    "datareader.metadata # obtenir les métadonnées disponnible sur otoriver dans l'outil DataReader"
   ]
  },
  {
   "cell_type": "code",
   "execution_count": null,
   "metadata": {},
   "outputs": [],
   "source": [
    "# Données brut otoriver\n",
    "filepath = \"data/otosea_EB/Export otosea - SIAAP-Bougival - 48943556.xlsx\" \n",
    "df_otoriver_input = pd.read_excel(filepath) \n",
    "print(\"Données brut pour otoriver\")\n",
    "df_otoriver_input"
   ]
  },
  {
   "cell_type": "code",
   "execution_count": null,
   "metadata": {},
   "outputs": [],
   "source": [
    "df_otoriver_output = datareader.from_xslx(filepath=filepath) # Lecture du fichier à l'aide du dataReader\n",
    "print(\"Fichier de sortie pour otoriver\")\n",
    "df_otoriver_output"
   ]
  },
  {
   "cell_type": "code",
   "execution_count": null,
   "metadata": {},
   "outputs": [],
   "source": [
    "fig_otoriver = px.line(df_otoriver_output, x=\"date\", y=[c for c in df_otoriver_output.columns if c != \"date\"])\n",
    "fig_otoriver.show()"
   ]
  },
  {
   "cell_type": "markdown",
   "metadata": {},
   "source": [
    "## 2. Descripteurs Acoustiques de Sensea : Sensea DataReader\n",
    "\n",
    "Permettre la lecture et le prétraitement des données sensea"
   ]
  },
  {
   "cell_type": "code",
   "execution_count": null,
   "metadata": {},
   "outputs": [],
   "source": [
    "from DBBuilder.datareader import Sensea_DataReader\n",
    "\n",
    "# Initialisation de du DataReader\n",
    "datareader = Sensea_DataReader(timefreq=\"h\") # Choisire le pas de temps de sortie\n",
    "datareader.metadata # obtenir les métadonnées disponnible sur sensea dans l'outil DataReader"
   ]
  },
  {
   "cell_type": "code",
   "execution_count": null,
   "metadata": {},
   "outputs": [],
   "source": [
    "files_sensea = glob.glob(\"./data/clean/bougival/acoustic/sensea/*.csv\")\n",
    "df_sensea_input = pd.concat([pd.read_csv(f) for f in files_sensea])\n",
    "print(\"Données brut pour sensea\")\n",
    "df_sensea_input"
   ]
  },
  {
   "cell_type": "code",
   "execution_count": null,
   "metadata": {},
   "outputs": [],
   "source": [
    "df_sensea_output = datareader.from_dataframe(df=df_sensea_input) # Lecture du fichier à l'aide du dataReader\n",
    "print(\"Fichier de sortie pour sensea\")\n",
    "df_sensea_output"
   ]
  },
  {
   "cell_type": "code",
   "execution_count": null,
   "metadata": {},
   "outputs": [],
   "source": []
  }
 ],
 "metadata": {
  "kernelspec": {
   "display_name": "Python 3",
   "language": "python",
   "name": "python3"
  },
  "language_info": {
   "codemirror_mode": {
    "name": "ipython",
    "version": 3
   },
   "file_extension": ".py",
   "mimetype": "text/x-python",
   "name": "python",
   "nbconvert_exporter": "python",
   "pygments_lexer": "ipython3",
   "version": "3.12.2"
  }
 },
 "nbformat": 4,
 "nbformat_minor": 2
}
