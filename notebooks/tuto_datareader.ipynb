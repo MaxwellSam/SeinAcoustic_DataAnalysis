{
 "cells": [
  {
   "cell_type": "markdown",
   "metadata": {},
   "source": [
    "# Tutotial DataReader\n",
    "\n",
    "Utilisation des objets DataReader pour la lectures de données sources spécifiques. \n",
    "En résumé, que font les DataReader:\n",
    "- Prise en charge d'un input specifique (une source de donnée comme par expl otoriver ou sensea).\n",
    "- Prétraitmements éventuels sur la donnée brut (expl: passer sur un pas de temps horaire).\n",
    "- Construction d'un dataset en sortie"
   ]
  },
  {
   "cell_type": "code",
   "execution_count": null,
   "metadata": {},
   "outputs": [],
   "source": [
    "import os\n",
    "cwd = os.getcwd()\n",
    "new_cwd = os.path.join(cwd.rsplit(\"SeinAcoustic_DataAnalysis\")[0], \"SeinAcoustic_DataAnalysis\") if not cwd.endswith(\"SeinAcoustic_DataAnalysis\") else None\n",
    "if new_cwd != None:\n",
    "    os.chdir(new_cwd)\n",
    "\n",
    "import pandas as pd\n",
    "import numpy as np\n",
    "import plotly.express as px\n",
    "import plotly.graph_objects as go\n",
    "import seaborn as sns\n",
    "import glob"
   ]
  },
  {
   "cell_type": "code",
   "execution_count": null,
   "metadata": {},
   "outputs": [],
   "source": [
    "def min_max_normalize(column):\n",
    "    return (column - column.min()) / (column.max() - column.min())\n",
    "\n",
    "def normalize_dataframe (df:pd.DataFrame, columns): \n",
    "    df_norm = df.copy()\n",
    "    df_norm[columns] = df_norm[columns].apply(min_max_normalize, axis=0)\n",
    "    return df_norm"
   ]
  },
  {
   "cell_type": "code",
   "execution_count": null,
   "metadata": {},
   "outputs": [],
   "source": [
    "def get_lines (df:pd.DataFrame, x:str, y:any, color_palette=\"hls\"):\n",
    "    traces = []\n",
    "    y_list = [y] if type(y) == str else y\n",
    "    colors = sns.color_palette(color_palette, n_colors=len(y_list)).as_hex()\n",
    "    for i in range(len(y_list)):\n",
    "        y = y_list[i]\n",
    "        traces.append(go.Scatter(x=df[x], y=df[y], mode='lines', name=y, line=dict(color=colors[i])))\n",
    "    return traces"
   ]
  },
  {
   "cell_type": "code",
   "execution_count": null,
   "metadata": {},
   "outputs": [],
   "source": [
    "def line_graph (df:pd.DataFrame, x:str, y:any, title:str=None, xaxis_title:str=None, yaxis_title:str=None, color_palette=\"hls\", norm:bool=False):\n",
    "    \"\"\"\n",
    "    tarce a line graph from dataframe\n",
    "    \"\"\"\n",
    "    if norm:\n",
    "        df = normalize_dataframe(df, columns=y)\n",
    "    fig = go.Figure(\n",
    "        data=get_lines(df=df, x=x, y=y, color_palette=color_palette)\n",
    "    )\n",
    "    args_layout={}\n",
    "    if title:\n",
    "        args_layout[\"title\"] = title\n",
    "    if xaxis_title:\n",
    "        args_layout[\"xaxis_title\"] = xaxis_title\n",
    "    if yaxis_title:\n",
    "        args_layout[\"yaxis_title\"] = yaxis_title\n",
    "    if len(args_layout) > 0:\n",
    "        fig.update_layout(**args_layout)\n",
    "    return fig"
   ]
  },
  {
   "cell_type": "markdown",
   "metadata": {},
   "source": [
    "## 1. Descripteurs Acoustiques: \n",
    "\n",
    "Lecture des données d'entrée sur les descripteurs acoustiques. \n",
    "2 sources de données:\n",
    "- Sensea : 11 descripteurs => note : manque de métadonnées (seul info = unité = comptage sur les données de sortie du DataReader)\n",
    "- Otoriver : 21 descripteurs => unités différentes en fonction des descripteurs (métadonnée complette) - a voir pout adapter le traitmeent en fonction des unités."
   ]
  },
  {
   "cell_type": "code",
   "execution_count": null,
   "metadata": {},
   "outputs": [],
   "source": [
    "from DBBuilder.datareader import Otoriver_DataReader\n",
    "\n",
    "# Initialisation de du DataReader\n",
    "datareader_otoriver = Otoriver_DataReader(timefreq=\"h\") # Choisire le pas de temps de sortie\n",
    "# datareader_otoriver.interpolate_option = True\n",
    "metadata_otoriver = datareader_otoriver.metadata # obtenir les métadonnées disponnible sur otoriver dans l'outil DataReader\n",
    "metadata_otoriver"
   ]
  },
  {
   "cell_type": "code",
   "execution_count": null,
   "metadata": {},
   "outputs": [],
   "source": [
    "# Données brut otoriver\n",
    "filepath = \"data/Data_SAM/Bougival/input/acoustique/otoriver/otoriver_20210706-20231208.csv\" \n",
    "df_otoriver_input = pd.read_csv(filepath) \n",
    "print(\"Données brut pour otoriver\")\n",
    "df_otoriver_input"
   ]
  },
  {
   "cell_type": "code",
   "execution_count": null,
   "metadata": {},
   "outputs": [],
   "source": [
    "fig_otoriver_input = line_graph(df_otoriver_input, x=\"date\", y=metadata_otoriver[\"colname\"].values.tolist(), title=\"Evolution temporelle de l'activité acoustiques par les descripteurs d'Otoriver (Données d'entrée)\")\n",
    "fig_otoriver_input.show()"
   ]
  },
  {
   "cell_type": "code",
   "execution_count": null,
   "metadata": {},
   "outputs": [],
   "source": [
    "df_otoriver_output = datareader_otoriver.from_csv(filepath=filepath) # Lecture du fichier à l'aide du dataReader\n",
    "print(\"Fichier de sortie pour otoriver\")\n",
    "df_otoriver_output"
   ]
  },
  {
   "cell_type": "code",
   "execution_count": null,
   "metadata": {},
   "outputs": [],
   "source": [
    "otoriver_descriptors = [c for c in df_otoriver_output.columns if c != \"date\"]\n",
    "fig_otoriver = line_graph(df_otoriver_output, x=\"date\", y=otoriver_descriptors, title=\"Evolution temporelle de l'activité acoustiques par les descripteurs d'Otoriver\")\n",
    "fig_otoriver.show()"
   ]
  },
  {
   "cell_type": "code",
   "execution_count": null,
   "metadata": {},
   "outputs": [],
   "source": [
    "figs = {}\n",
    "metadata_otoriver = Otoriver_DataReader.metadata\n",
    "otoriver_descriptors = [c for c in df_otoriver_output.columns if c != \"date\"]\n",
    "for unit in metadata_otoriver[\"unit\"].unique():\n",
    "    # y = [c for c in otoriver_descriptors if unit in c[c.index(\"[\")+1:c.index(\"]\")].split(\",\")]\n",
    "    y = metadata_otoriver.loc[(metadata_otoriver[\"unit\"] == unit), \"colname\"].values.tolist()\n",
    "    figs[unit]=line_graph(df_otoriver_output, x=\"date\", y=y, title=f\"Evolution de l'activité acoustiques des descripteurs Otoriver (type d'unité {unit})\")\n",
    "    figs[unit].show()"
   ]
  },
  {
   "cell_type": "code",
   "execution_count": null,
   "metadata": {},
   "outputs": [],
   "source": [
    "# df_otoriver_output_norm = normalize_acoustic(df_otoriver_output)\n",
    "fig_otoriver = line_graph(df_otoriver_output, x=\"date\", y=otoriver_descriptors, norm=True, title=\"Evolution temporelle de l'activité acoustiques par les descripteurs d'Otoriver (avec normalisation)\")\n",
    "fig_otoriver.show()"
   ]
  },
  {
   "cell_type": "markdown",
   "metadata": {},
   "source": [
    "## 2. Descripteurs Acoustiques de Sensea : Sensea DataReader\n",
    "\n",
    "Permettre la lecture et le prétraitement des données sensea"
   ]
  },
  {
   "cell_type": "code",
   "execution_count": null,
   "metadata": {},
   "outputs": [],
   "source": [
    "from DBBuilder.datareader import Sensea_DataReader\n",
    "\n",
    "# Initialisation de du DataReader\n",
    "datareader_sensea = Sensea_DataReader(timefreq=\"15min\") # Choisire le pas de temps de sortie\n",
    "datareader_sensea.metadata # obtenir les métadonnées disponnible sur sensea dans l'outil DataReader"
   ]
  },
  {
   "cell_type": "code",
   "execution_count": null,
   "metadata": {},
   "outputs": [],
   "source": [
    "filepath_sensea = \"data/Data_SAM/Bougival/input/acoustique/sensea/sensea_2021-06-16_2023-11-21.csv\"\n",
    "df_sensea_input = pd.read_csv(filepath_sensea)\n",
    "print(\"Données brut pour sensea\")\n",
    "df_sensea_input"
   ]
  },
  {
   "cell_type": "code",
   "execution_count": null,
   "metadata": {},
   "outputs": [],
   "source": [
    "df_sensea_output = datareader_sensea.from_dataframe(df=df_sensea_input) # Lecture du fichier à l'aide du dataReader\n",
    "print(\"Fichier de sortie pour sensea\")\n",
    "df_sensea_output"
   ]
  },
  {
   "cell_type": "code",
   "execution_count": null,
   "metadata": {},
   "outputs": [],
   "source": [
    "descriptors_sensea = [c for c in df_sensea_output.columns if c != \"date\"]\n",
    "fig_sensea = line_graph(df_sensea_output, x=\"date\", y=descriptors_sensea)\n",
    "fig_sensea.show()"
   ]
  },
  {
   "cell_type": "code",
   "execution_count": null,
   "metadata": {},
   "outputs": [],
   "source": [
    "# df_sensea_norm = normalize_acoustic(df_sensea_output)\n",
    "fig_sensea = line_graph(df_sensea_output, x=\"date\", y=descriptors_sensea, norm=True)\n",
    "fig_sensea.show()"
   ]
  },
  {
   "cell_type": "code",
   "execution_count": null,
   "metadata": {},
   "outputs": [],
   "source": [
    "df_acoustic = pd.merge(df_otoriver_output, df_sensea_output, on=\"date\", how=\"outer\")\n",
    "df_acoustic"
   ]
  },
  {
   "cell_type": "markdown",
   "metadata": {},
   "source": [
    "## Physico-Chimie\n",
    "\n",
    "Au niveau des données physico-chimiques:\n",
    "- Physico-chime continue => horaire\n",
    "- Physico-chimie ponctuelle => hebdo "
   ]
  },
  {
   "cell_type": "code",
   "execution_count": null,
   "metadata": {},
   "outputs": [],
   "source": [
    "from DBBuilder.datareader import PhCh_Continus_DataReader\n",
    "\n",
    "datareader_phch_h = PhCh_Continus_DataReader(timefreq=\"h\", renamecolumns=False)\n",
    "filepath_phch_h = \"data/Data_SAM/Bougival/input/phch/phch_continue/phch_continue_20210601-20230831.csv\"\n",
    "datareader_phch_h.metadata"
   ]
  },
  {
   "cell_type": "code",
   "execution_count": null,
   "metadata": {},
   "outputs": [],
   "source": [
    "# df_phch_h = pd.read_excel(filepath_phch_h, decimal=\",\")\n",
    "# df_phch_h.to_csv(filepath_phch_h.replace(\".xlsx\", \".csv\"), index=False)\n",
    "# df_phch_h"
   ]
  },
  {
   "cell_type": "code",
   "execution_count": null,
   "metadata": {},
   "outputs": [],
   "source": [
    "df_phch_h = pd.read_csv(filepath_phch_h.replace(\".xlsx\", \".csv\"))\n",
    "print(\"Donnée physico-chimie continue d'entrée\")\n",
    "display(df_phch_h)"
   ]
  },
  {
   "cell_type": "code",
   "execution_count": null,
   "metadata": {},
   "outputs": [],
   "source": [
    "df_phch_h_output = datareader_phch_h.from_dataframe(df=df_phch_h)\n",
    "print(\"Donnée physico-chimie continue de sortie\")\n",
    "display(df_phch_h_output)"
   ]
  },
  {
   "cell_type": "code",
   "execution_count": null,
   "metadata": {},
   "outputs": [],
   "source": [
    "cols_todisplay = [c for c in df_phch_h_output.columns if c != \"date\"]\n",
    "fig_phch_h = line_graph(df=df_phch_h_output, x=\"date\", y=cols_todisplay, title=\"Évolution des paramètres physico-chimiques (données normalisées)\", norm=True)\n",
    "fig_phch_h.show() "
   ]
  },
  {
   "cell_type": "markdown",
   "metadata": {},
   "source": [
    "## Build DataBase"
   ]
  },
  {
   "cell_type": "code",
   "execution_count": null,
   "metadata": {},
   "outputs": [],
   "source": [
    "from DBBuilder import DBBuilder\n",
    "\n",
    "lat, long, elev = 48.866,2.133, 23\n",
    "dbbuilder = DBBuilder(latitude=lat, longitude=long, elevation=elev)"
   ]
  },
  {
   "cell_type": "code",
   "execution_count": null,
   "metadata": {},
   "outputs": [],
   "source": [
    "df_final = pd.merge(df_acoustic, df_phch_h_output, on=\"date\", how=\"outer\")\n",
    "display(df_final)"
   ]
  },
  {
   "cell_type": "code",
   "execution_count": null,
   "metadata": {},
   "outputs": [],
   "source": [
    "output = dbbuilder.build(input=df_final)"
   ]
  },
  {
   "cell_type": "code",
   "execution_count": null,
   "metadata": {},
   "outputs": [],
   "source": [
    "hourly_df = dbbuilder.rename_columns_with_metadata(df=dbbuilder.hourly_data)"
   ]
  },
  {
   "cell_type": "code",
   "execution_count": null,
   "metadata": {},
   "outputs": [],
   "source": [
    "display(dbbuilder.data)\n",
    "display(dbbuilder.hourly_data)\n",
    "display(dbbuilder.daily_data)"
   ]
  },
  {
   "cell_type": "code",
   "execution_count": null,
   "metadata": {},
   "outputs": [],
   "source": [
    "# dbbuilder.data.to_csv(\"data/Data_SAM/Bougival/output/Bougival_dataset.csv\", date_format=\"%Y-%m-%d %H:%M:%S\", index=False)\n",
    "# dbbuilder.hourly_data.to_csv(\"data/Data_SAM/Bougival/output/Bougival_hourly_dataset.csv\", date_format=\"%Y-%m-%d %H:%M:%S\", index=False)\n",
    "# dbbuilder.daily_data.to_csv(\"data/Data_SAM/Bougival/output/Bougival_daily_dataset.csv\", date_format=\"%Y-%m-%d %H:%M:%S\", index=False)"
   ]
  },
  {
   "cell_type": "code",
   "execution_count": null,
   "metadata": {},
   "outputs": [],
   "source": [
    "# dbbuilder.export_to_xlsx(filepath=\"database.xlsx\")"
   ]
  },
  {
   "cell_type": "code",
   "execution_count": null,
   "metadata": {},
   "outputs": [],
   "source": [
    "hourly_data = dbbuilder.hourly_data\n",
    "hourly_data = dbbuilder.rename_columns_with_metadata(df=hourly_data, add_metadata_infos=True)\n",
    "print(hourly_data.columns.to_list())\n",
    "sensea_cols = []\n",
    "otoriver_cols = []\n",
    "meteo_cols = []\n",
    "phch_cols = []\n",
    "for c in hourly_data.columns:\n",
    "    c = str(c)\n",
    "    print(c)\n",
    "    if \"sensea\" in c:\n",
    "        print(c)\n",
    "        sensea_cols.append(c)\n",
    "    if \"otoriver\" in c:\n",
    "        otoriver_cols.append(c)\n",
    "    if \"meteo\" in c:\n",
    "        meteo_cols.append(c)\n",
    "    if \"phch\" in c:\n",
    "        phch_cols.append(c)"
   ]
  },
  {
   "cell_type": "code",
   "execution_count": null,
   "metadata": {},
   "outputs": [],
   "source": [
    "dbbuilder.export_to_csv(folderpath=\"./data/Data_SAM/\", baseFilename=\"Bougival_dataset\")"
   ]
  },
  {
   "cell_type": "code",
   "execution_count": null,
   "metadata": {},
   "outputs": [],
   "source": [
    "daily_data = dbbuilder.daily_data\n",
    "display(daily_data)\n",
    "date_interval = [daily_data.date.min(), daily_data.max()]\n",
    "# \"-\".join([d.strftime(\"%Y%m%d\") for d in [daily_data.date.min(), daily_data.max()]])\n",
    "date_interval"
   ]
  },
  {
   "cell_type": "code",
   "execution_count": null,
   "metadata": {},
   "outputs": [],
   "source": [
    "daily_data.date.min().strftime(\"%Y%m%d\")"
   ]
  },
  {
   "cell_type": "code",
   "execution_count": null,
   "metadata": {},
   "outputs": [],
   "source": []
  }
 ],
 "metadata": {
  "kernelspec": {
   "display_name": "Python 3",
   "language": "python",
   "name": "python3"
  },
  "language_info": {
   "codemirror_mode": {
    "name": "ipython",
    "version": 3
   },
   "file_extension": ".py",
   "mimetype": "text/x-python",
   "name": "python",
   "nbconvert_exporter": "python",
   "pygments_lexer": "ipython3",
   "version": "3.12.2"
  }
 },
 "nbformat": 4,
 "nbformat_minor": 2
}
