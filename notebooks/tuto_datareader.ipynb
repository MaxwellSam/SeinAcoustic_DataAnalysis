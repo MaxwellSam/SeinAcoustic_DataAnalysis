{
 "cells": [
  {
   "cell_type": "markdown",
   "metadata": {},
   "source": [
    "# Tutotial DataReader\n",
    "\n",
    "Utilisation des objets DataReader pour la lectures de données sources spécifiques. \n",
    "En résumé, que font les DataReader:\n",
    "- Prise en charge d'un input specifique (une source de donnée comme par expl otoriver ou sensea).\n",
    "- Prétraitmements éventuels sur la donnée brut (expl: passer sur un pas de temps horaire).\n",
    "- Construction d'un dataset en sortie"
   ]
  },
  {
   "cell_type": "code",
   "execution_count": null,
   "metadata": {},
   "outputs": [],
   "source": [
    "import os\n",
    "cwd = os.getcwd()\n",
    "new_cwd = os.path.join(cwd.rsplit(\"SeinAcoustic_DataAnalysis\")[0], \"SeinAcoustic_DataAnalysis\") if not cwd.endswith(\"SeinAcoustic_DataAnalysis\") else None\n",
    "if new_cwd != None:\n",
    "    os.chdir(new_cwd)\n",
    "\n",
    "import pandas as pd\n",
    "import numpy as np\n",
    "import plotly.express as px\n",
    "import plotly.graph_objects as go\n",
    "import seaborn as sns\n",
    "import glob"
   ]
  },
  {
   "cell_type": "code",
   "execution_count": null,
   "metadata": {},
   "outputs": [],
   "source": [
    "def get_lines (df:pd.DataFrame, x:str, y:any, color_palette=\"hls\"):\n",
    "    traces = []\n",
    "    y_list = [y] if type(y) == str else y\n",
    "    colors = colors = sns.color_palette(color_palette, n_colors=len(y_list)).as_hex()\n",
    "    for i in range(len(y_list)):\n",
    "        y = y_list[i]\n",
    "        traces.append(go.Scatter(x=df[x], y=df[y], mode='lines', name=y, line=dict(color=colors[i])))\n",
    "    return traces"
   ]
  },
  {
   "cell_type": "code",
   "execution_count": null,
   "metadata": {},
   "outputs": [],
   "source": [
    "def line_graph (df:pd.DataFrame, x:str, y:any, title:str=None, xaxis_title:str=None, yaxis_title:str=None, color_palette=\"hls\"):\n",
    "    \"\"\"\n",
    "    tarce a line graph from dataframe\n",
    "    \"\"\"\n",
    "    fig = go.Figure(\n",
    "        data=get_lines(df=df, x=x, y=y, color_palette=color_palette)\n",
    "    )\n",
    "    args_layout={}\n",
    "    if title:\n",
    "        args_layout[\"title\"] = title\n",
    "    if xaxis_title:\n",
    "        args_layout[\"xaxis_title\"] = xaxis_title\n",
    "    if yaxis_title:\n",
    "        args_layout[\"yaxis_title\"] = yaxis_title\n",
    "    if len(args_layout) > 0:\n",
    "        fig.update_layout(**args_layout)\n",
    "    return fig"
   ]
  },
  {
   "cell_type": "code",
   "execution_count": null,
   "metadata": {},
   "outputs": [],
   "source": [
    "def min_max_normalize(column):\n",
    "    return (column - column.min()) / (column.max() - column.min())\n",
    "\n",
    "def normalize_acoustic (df):\n",
    "    cols_to_norm = [c for c in df.columns if c != \"date\"] \n",
    "    df_norm = df[cols_to_norm].apply(min_max_normalize, axis=0)\n",
    "    df_norm.insert(0, \"date\", df[\"date\"])\n",
    "    return df_norm"
   ]
  },
  {
   "cell_type": "markdown",
   "metadata": {},
   "source": [
    "## 1. Descripteurs Acoustiques: \n",
    "\n",
    "Lecture des données d'entrée sur les descripteurs acoustiques. \n",
    "2 sources de données:\n",
    "- Sensea : 11 descripteurs => note : manque de métadonnées (seul info = unité = comptage sur les données de sortie du DataReader)\n",
    "- Otoriver : 21 descripteurs => unités différentes en fonction des descripteurs (métadonnée complette) - a voir pout adapter le traitmeent en fonction des unités."
   ]
  },
  {
   "cell_type": "code",
   "execution_count": null,
   "metadata": {},
   "outputs": [],
   "source": [
    "from DBBuilder.datareader import Otoriver_DataReader\n",
    "\n",
    "# Initialisation de du DataReader\n",
    "datareader = Otoriver_DataReader(timefreq=\"5h\") # Choisire le pas de temps de sortie\n",
    "datareader.metadata # obtenir les métadonnées disponnible sur otoriver dans l'outil DataReader"
   ]
  },
  {
   "cell_type": "code",
   "execution_count": null,
   "metadata": {},
   "outputs": [],
   "source": [
    "# Données brut otoriver\n",
    "filepath = \"data/Data_SAM/Bougival/input/acoustique/otoriver/otoriver_2021-07-06_2023-12-08.xlsx\" \n",
    "df_otoriver_input = pd.read_excel(filepath) \n",
    "print(\"Données brut pour otoriver\")\n",
    "df_otoriver_input"
   ]
  },
  {
   "cell_type": "code",
   "execution_count": null,
   "metadata": {},
   "outputs": [],
   "source": [
    "df_otoriver_output = datareader.from_xslx(filepath=filepath) # Lecture du fichier à l'aide du dataReader\n",
    "print(\"Fichier de sortie pour otoriver\")\n",
    "df_otoriver_output"
   ]
  },
  {
   "cell_type": "code",
   "execution_count": null,
   "metadata": {},
   "outputs": [],
   "source": [
    "otoriver_descriptors = [c for c in df_otoriver_output.columns if c != \"date\"]\n",
    "fig_otoriver = line_graph(df_otoriver_output, x=\"date\", y=otoriver_descriptors, title=\"Evolution temporelle de l'activité acoustiques par les descripteurs d'Otoriver\")\n",
    "fig_otoriver.show()"
   ]
  },
  {
   "cell_type": "code",
   "execution_count": null,
   "metadata": {},
   "outputs": [],
   "source": [
    "figs = {}\n",
    "metadata_otoriver = Otoriver_DataReader.metadata\n",
    "otoriver_descriptors = [c for c in df_otoriver_output.columns if c != \"date\"]\n",
    "for unit in metadata_otoriver[\"unit\"].unique():\n",
    "    y = [c for c in otoriver_descriptors if unit in c[c.index(\"[\")+1:c.index(\"]\")].split(\",\")]\n",
    "    figs[unit]=line_graph(df_otoriver_output, x=\"date\", y=y, title=f\"Evolution de l'activité acoustiques des descripteurs Otoriver (type d'unité {unit})\")\n",
    "    figs[unit].show()"
   ]
  },
  {
   "cell_type": "code",
   "execution_count": null,
   "metadata": {},
   "outputs": [],
   "source": [
    "df_otoriver_output_norm = normalize_acoustic(df_otoriver_output)\n",
    "fig_otoriver = line_graph(df_otoriver_output_norm, x=\"date\", y=otoriver_descriptors, title=\"Evolution temporelle de l'activité acoustiques par les descripteurs d'Otoriver (avec normalisation)\")\n",
    "# fig_otoriver.update(connectgaps=False)\n",
    "fig_otoriver.show()"
   ]
  },
  {
   "cell_type": "markdown",
   "metadata": {},
   "source": [
    "## 2. Descripteurs Acoustiques de Sensea : Sensea DataReader\n",
    "\n",
    "Permettre la lecture et le prétraitement des données sensea"
   ]
  },
  {
   "cell_type": "code",
   "execution_count": null,
   "metadata": {},
   "outputs": [],
   "source": [
    "from DBBuilder.datareader import Sensea_DataReader\n",
    "\n",
    "# Initialisation de du DataReader\n",
    "datareader = Sensea_DataReader(timefreq=\"15min\") # Choisire le pas de temps de sortie\n",
    "datareader.metadata # obtenir les métadonnées disponnible sur sensea dans l'outil DataReader"
   ]
  },
  {
   "cell_type": "code",
   "execution_count": null,
   "metadata": {},
   "outputs": [],
   "source": [
    "filepath_sensea = \"data/Data_SAM/Bougival/input/acoustique/sensea/sensea_2021-06-16_2023-11-21.csv\"\n",
    "df_sensea_input = pd.read_csv(filepath_sensea)\n",
    "print(\"Données brut pour sensea\")\n",
    "df_sensea_input"
   ]
  },
  {
   "cell_type": "code",
   "execution_count": null,
   "metadata": {},
   "outputs": [],
   "source": [
    "df_sensea_output = datareader.from_dataframe(df=df_sensea_input) # Lecture du fichier à l'aide du dataReader\n",
    "print(\"Fichier de sortie pour sensea\")\n",
    "df_sensea_output"
   ]
  },
  {
   "cell_type": "code",
   "execution_count": null,
   "metadata": {},
   "outputs": [],
   "source": [
    "descriptors_sensea = [c for c in df_sensea_output.columns if c != \"date\"]\n",
    "fig_sensea = line_graph(df_sensea_output, x=\"date\", y=descriptors_sensea)\n",
    "fig_sensea.show()"
   ]
  },
  {
   "cell_type": "code",
   "execution_count": null,
   "metadata": {},
   "outputs": [],
   "source": [
    "df_sensea_norm = normalize_acoustic(df_sensea_output)\n",
    "fig_sensea = line_graph(df_sensea_norm, x=\"date\", y=descriptors_sensea)\n",
    "fig_sensea.show()"
   ]
  },
  {
   "cell_type": "code",
   "execution_count": null,
   "metadata": {},
   "outputs": [],
   "source": [
    "df_acoustic = pd.merge(df_otoriver_output, df_sensea_output, on=\"date\", how=\"outer\")\n",
    "df_acoustic"
   ]
  },
  {
   "cell_type": "code",
   "execution_count": null,
   "metadata": {},
   "outputs": [],
   "source": [
    "from DBBuilder import DBBuilder"
   ]
  },
  {
   "cell_type": "code",
   "execution_count": null,
   "metadata": {},
   "outputs": [],
   "source": [
    "dbbuilder = DBBuilder()"
   ]
  },
  {
   "cell_type": "code",
   "execution_count": null,
   "metadata": {},
   "outputs": [],
   "source": [
    "res = dbbuilder.build(input=df_acoustic)"
   ]
  },
  {
   "cell_type": "markdown",
   "metadata": {},
   "source": [
    "## Physico-Chimie\n",
    "\n",
    "Au niveau des données physico-chimiques:\n",
    "- Physico-chime continue => horaire\n",
    "- Physico-chimie ponctuelle => hebdo "
   ]
  },
  {
   "cell_type": "code",
   "execution_count": null,
   "metadata": {},
   "outputs": [],
   "source": []
  }
 ],
 "metadata": {
  "kernelspec": {
   "display_name": "Python 3",
   "language": "python",
   "name": "python3"
  },
  "language_info": {
   "codemirror_mode": {
    "name": "ipython",
    "version": 3
   },
   "file_extension": ".py",
   "mimetype": "text/x-python",
   "name": "python",
   "nbconvert_exporter": "python",
   "pygments_lexer": "ipython3",
   "version": "3.12.2"
  }
 },
 "nbformat": 4,
 "nbformat_minor": 2
}
