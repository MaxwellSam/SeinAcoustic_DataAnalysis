{
 "cells": [
  {
   "cell_type": "code",
   "execution_count": null,
   "metadata": {},
   "outputs": [],
   "source": [
    "import os\n",
    "cwd = os.getcwd()\n",
    "new_cwd = os.path.join(cwd.rsplit(\"SeinAcoustic_DataAnalysis\")[0], \"SeinAcoustic_DataAnalysis\") if not cwd.endswith(\"SeinAcoustic_DataAnalysis\") else None\n",
    "if new_cwd != None:\n",
    "    os.chdir(new_cwd)\n",
    "\n",
    "import pandas as pd\n",
    "import numpy as np\n",
    "import plotly.express as px\n",
    "import plotly.graph_objects as go\n",
    "import seaborn as sns\n",
    "import glob\n",
    "from IPython.display import display"
   ]
  },
  {
   "cell_type": "code",
   "execution_count": null,
   "metadata": {},
   "outputs": [],
   "source": [
    "from DBBuilder.datareader import Otoriver_DataReader, Sensea_DataReader\n",
    "from DBBuilder import DBBuilder"
   ]
  },
  {
   "cell_type": "code",
   "execution_count": null,
   "metadata": {},
   "outputs": [],
   "source": [
    "# dataread_otoriver = Otoriver_DataReader(timefreq=\"h\", renamecolumns=True)\n",
    "filepath_otoriver = \"data/Data_SAM/Bougival/input/acoustique/otoriver/otoriver_2021-07-06_2023-12-08.xlsx\" \n",
    "# df_otoriver = dataread_otoriver.from_input(input=filepath_otoriver)\n",
    "# display(df_otoriver)"
   ]
  },
  {
   "cell_type": "code",
   "execution_count": null,
   "metadata": {},
   "outputs": [],
   "source": [
    "# dataread_sensea = Sensea_DataReader(timefreq=\"h\")\n",
    "filepath_sensea = \"data/Data_SAM/Bougival/input/acoustique/sensea/sensea_2021-06-16_2023-11-21.csv\"\n",
    "# df_sensea = dataread_sensea.from_input(input=filepath_sensea)\n",
    "# display(df_sensea)"
   ]
  },
  {
   "cell_type": "code",
   "execution_count": null,
   "metadata": {},
   "outputs": [],
   "source": [
    "# acoustic = pd.merge(df_otoriver, df_sensea, on=\"date\")"
   ]
  },
  {
   "cell_type": "code",
   "execution_count": null,
   "metadata": {},
   "outputs": [],
   "source": [
    "dbbuilder = DBBuilder(output_asdataframe=True, input_timefreq=\"15min\")\n",
    "output = dbbuilder.build_from_seinAcousticSourceFiles(acoustic_sensea=filepath_sensea, acoustic_otoriver=filepath_otoriver)\n",
    "for k, df in output[\"data\"].items():\n",
    "    print(k)\n",
    "    display(df)"
   ]
  },
  {
   "cell_type": "code",
   "execution_count": null,
   "metadata": {},
   "outputs": [],
   "source": [
    "data_h = dbbuilder.data\n",
    "data_h[\"date_h\"] = data_h.date.dt.floor(\"h\")\n",
    "min_max_date = data_h.groupby([\"date_h\", \"suncycle_day\", \"suncycle_type\"])[\"date\"].agg([\"min\", \"max\"]).add_prefix(\"date_agg_\").reset_index()\n",
    "min_max_date\n",
    "final_df = data_h[['date', 'suncycle_type', 'suncycle_day', 'dist_tw_rising','date_h','dist_tw_setting']]\n",
    "final_df = final_df.groupby(by=['date_h','suncycle_type', 'suncycle_day'])[['dist_tw_rising', 'dist_tw_setting']].mean()\n",
    "final_df = pd.merge(min_max_date, final_df, on=['date_h','suncycle_type', 'suncycle_day'])\n",
    "final_df.head(50)"
   ]
  },
  {
   "cell_type": "code",
   "execution_count": null,
   "metadata": {},
   "outputs": [],
   "source": [
    "final_df[final_df.date_h == final_df[final_df[\"date_h\"].duplicated()].loc[9].date_h]"
   ]
  },
  {
   "cell_type": "code",
   "execution_count": null,
   "metadata": {},
   "outputs": [],
   "source": [
    "dbbuilder.data.head(50)"
   ]
  },
  {
   "cell_type": "code",
   "execution_count": null,
   "metadata": {},
   "outputs": [],
   "source": [
    "dbbuilder.export_to_xlsx(filepath=\"data/Data_SAM/Bougival/database.xlsx\")"
   ]
  },
  {
   "cell_type": "code",
   "execution_count": null,
   "metadata": {},
   "outputs": [],
   "source": [
    "backup = pd.read_excel(\"data/Data_SAM/Bougival/database.xlsx\", sheet_name=None)"
   ]
  }
 ],
 "metadata": {
  "kernelspec": {
   "display_name": "Python 3",
   "language": "python",
   "name": "python3"
  },
  "language_info": {
   "codemirror_mode": {
    "name": "ipython",
    "version": 3
   },
   "file_extension": ".py",
   "mimetype": "text/x-python",
   "name": "python",
   "nbconvert_exporter": "python",
   "pygments_lexer": "ipython3",
   "version": "3.12.2"
  }
 },
 "nbformat": 4,
 "nbformat_minor": 2
}
