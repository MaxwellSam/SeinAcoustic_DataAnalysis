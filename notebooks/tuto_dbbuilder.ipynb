{
 "cells": [
  {
   "cell_type": "code",
   "execution_count": null,
   "metadata": {},
   "outputs": [],
   "source": [
    "import os\n",
    "cwd = os.getcwd()\n",
    "new_cwd = os.path.join(cwd.rsplit(\"SeinAcoustic_DataAnalysis\")[0], \"SeinAcoustic_DataAnalysis\") if not cwd.endswith(\"SeinAcoustic_DataAnalysis\") else None\n",
    "if new_cwd != None:\n",
    "    os.chdir(new_cwd)\n",
    "\n",
    "import pandas as pd\n",
    "import numpy as np\n",
    "import plotly.express as px\n",
    "import plotly.graph_objects as go\n",
    "import seaborn as sns\n",
    "import glob\n",
    "from IPython.display import display"
   ]
  },
  {
   "cell_type": "code",
   "execution_count": null,
   "metadata": {},
   "outputs": [],
   "source": [
    "from DBBuilder.datareader import Otoriver_DataReader, Sensea_DataReader\n",
    "from DBBuilder import DBBuilder"
   ]
  },
  {
   "cell_type": "code",
   "execution_count": null,
   "metadata": {},
   "outputs": [],
   "source": [
    "filepath_otoriver = \"data/Data_SAM/Bougival/input/acoustique/otoriver/otoriver_20210706-20231208.csv\" \n",
    "filepath_sensea = \"data/Data_SAM/Bougival/input/acoustique/sensea/sensea_2021-06-16_2023-11-21.csv\"\n",
    "filepath_phch_continue = \"data/Data_SAM/Bougival/input/phch/phch_continue/phch_continue_20210601-20230831.csv\""
   ]
  },
  {
   "cell_type": "code",
   "execution_count": null,
   "metadata": {},
   "outputs": [],
   "source": [
    "dbbuilder = DBBuilder(output_asdataframe=True, input_timefreq=\"h\")\n",
    "output = dbbuilder.build_from_seinAcousticSourceFiles(\n",
    "    acoustic_sensea=filepath_sensea, \n",
    "    acoustic_otoriver=filepath_otoriver,\n",
    "    phch_continus=filepath_phch_continue)\n",
    "for k, df in output[\"data\"].items():\n",
    "    print(k)\n",
    "    display(df)"
   ]
  },
  {
   "cell_type": "code",
   "execution_count": null,
   "metadata": {},
   "outputs": [],
   "source": [
    "dbbuilder.export_to_csv(\"data/Data_SAM/Bougival/output\", baseFilename=\"Bougival_DataSet\")"
   ]
  },
  {
   "cell_type": "code",
   "execution_count": null,
   "metadata": {},
   "outputs": [],
   "source": [
    "filepath_db=f\"data/Data_SAM/Bougival/output/Bougival_DataBase_{dbbuilder.daily_data.date.min().strftime(\"%Y%m%d\")}-{dbbuilder.daily_data.date.max().strftime(\"%Y%m%d\")}.xlsx\""
   ]
  },
  {
   "cell_type": "code",
   "execution_count": null,
   "metadata": {},
   "outputs": [],
   "source": [
    "dbbuilder.export_to_xlsx(filepath=filepath_db)"
   ]
  }
 ],
 "metadata": {
  "kernelspec": {
   "display_name": "Python 3",
   "language": "python",
   "name": "python3"
  },
  "language_info": {
   "codemirror_mode": {
    "name": "ipython",
    "version": 3
   },
   "file_extension": ".py",
   "mimetype": "text/x-python",
   "name": "python",
   "nbconvert_exporter": "python",
   "pygments_lexer": "ipython3",
   "version": "3.12.2"
  }
 },
 "nbformat": 4,
 "nbformat_minor": 2
}
