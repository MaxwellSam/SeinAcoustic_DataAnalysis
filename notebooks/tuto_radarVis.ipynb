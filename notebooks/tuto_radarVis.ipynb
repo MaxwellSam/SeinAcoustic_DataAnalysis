{
 "cells": [
  {
   "cell_type": "code",
   "execution_count": null,
   "metadata": {},
   "outputs": [],
   "source": [
    "import os\n",
    "cwd = os.getcwd()\n",
    "new_cwd = os.path.join(cwd.rsplit(\"SeinAcoustic_DataAnalysis\")[0], \"SeinAcoustic_DataAnalysis\") if not cwd.endswith(\"SeinAcoustic_DataAnalysis\") else None\n",
    "if new_cwd != None:\n",
    "    os.chdir(new_cwd)"
   ]
  },
  {
   "cell_type": "code",
   "execution_count": null,
   "metadata": {},
   "outputs": [],
   "source": [
    "import pandas as pd\n",
    "from Visu.radarVisu import TemporalRadarVis_withErrorThresholds\n",
    "from Visu.temporal_analysis import TemporalAnalysis"
   ]
  },
  {
   "cell_type": "code",
   "execution_count": null,
   "metadata": {},
   "outputs": [],
   "source": [
    "path = \"data/Data_SAM/Bougival/output/Bougival_DataSet_hourly_data_20210531-20231208.csv\"\n",
    "df = pd.read_csv(path)\n",
    "df.date = pd.to_datetime(df.date)\n",
    "cols_acoutique = [c for c in df.columns if \"acoustique\" in c]\n",
    "data = df[[\"date\", cols_acoutique[0]]].copy().dropna()\n",
    "data[\"week\"] = data.date.dt.strftime(\"%Y%U\")\n",
    "mask = data.week == data.week.unique()[1]\n",
    "data_week = data[mask]\n",
    "data_week\n"
   ]
  },
  {
   "cell_type": "code",
   "execution_count": null,
   "metadata": {},
   "outputs": [],
   "source": [
    "radarVis = TemporalRadarVis_withErrorThresholds(name=cols_acoutique[0])\n",
    "traces = radarVis.get_traces(dates=data_week.date.values, values=data_week[cols_acoutique[0]].values)"
   ]
  },
  {
   "cell_type": "code",
   "execution_count": null,
   "metadata": {},
   "outputs": [],
   "source": [
    "import plotly.graph_objs as go "
   ]
  },
  {
   "cell_type": "code",
   "execution_count": null,
   "metadata": {},
   "outputs": [],
   "source": [
    "fig = go.Figure()\n",
    "fig.add_traces(traces)\n",
    "fig.show()"
   ]
  },
  {
   "cell_type": "code",
   "execution_count": null,
   "metadata": {},
   "outputs": [],
   "source": [
    "temporalAnalysis = TemporalAnalysis(dates=df.date, values=df[cols_acoutique[0]].values)"
   ]
  },
  {
   "cell_type": "code",
   "execution_count": null,
   "metadata": {},
   "outputs": [],
   "source": [
    "df_visu_radar = temporalAnalysis.get_visu() "
   ]
  },
  {
   "cell_type": "code",
   "execution_count": null,
   "metadata": {},
   "outputs": [],
   "source": [
    "for i in range(0, 10):\n",
    "    df_visu_radar.radarVis[i].show()"
   ]
  },
  {
   "cell_type": "code",
   "execution_count": null,
   "metadata": {},
   "outputs": [],
   "source": []
  }
 ],
 "metadata": {
  "kernelspec": {
   "display_name": "Python 3",
   "language": "python",
   "name": "python3"
  },
  "language_info": {
   "codemirror_mode": {
    "name": "ipython",
    "version": 3
   },
   "file_extension": ".py",
   "mimetype": "text/x-python",
   "name": "python",
   "nbconvert_exporter": "python",
   "pygments_lexer": "ipython3",
   "version": "3.12.2"
  }
 },
 "nbformat": 4,
 "nbformat_minor": 2
}
